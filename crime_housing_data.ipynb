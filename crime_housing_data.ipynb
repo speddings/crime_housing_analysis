{
 "cells": [
  {
   "cell_type": "code",
   "execution_count": 1,
   "id": "f296ef2e",
   "metadata": {},
   "outputs": [],
   "source": [
    "# Import our dependencies\n",
    "from sklearn.model_selection import train_test_split\n",
    "from sklearn.preprocessing import StandardScaler,OneHotEncoder\n",
    "import pandas as pd\n",
    "import tensorflow as tf\n",
    "\n"
   ]
  },
  {
   "cell_type": "markdown",
   "id": "76fa44ea",
   "metadata": {},
   "source": [
    "# clean crime  data"
   ]
  },
  {
   "cell_type": "code",
   "execution_count": null,
   "id": "70a3b43d",
   "metadata": {
    "scrolled": true
   },
   "outputs": [],
   "source": [
    "#  Import and read the ca_crime.csv\n",
    "\n",
    "ca_crime_df = pd.read_excel('../Resources/california-crime.xls\", header=2, skiprows=2)\n",
    "ca_crime_df.head(20)"
   ]
  },
  {
   "cell_type": "code",
   "execution_count": null,
   "id": "c72e972e",
   "metadata": {
    "scrolled": true
   },
   "outputs": [],
   "source": [
    "clean_ca_crime_df = ca_crime_df.dropna()\n",
    "clean_ca_crime_df.head()"
   ]
  },
  {
   "cell_type": "code",
   "execution_count": null,
   "id": "b8be7f54",
   "metadata": {
    "scrolled": false
   },
   "outputs": [],
   "source": [
    "clean_ca_crime_df.dtypes"
   ]
  },
  {
   "cell_type": "code",
   "execution_count": null,
   "id": "56dacb6b",
   "metadata": {
    "scrolled": true
   },
   "outputs": [],
   "source": [
    "# drop any null values\n",
    "clean_ca_crime_df.dropna()"
   ]
  },
  {
   "cell_type": "code",
   "execution_count": null,
   "id": "efa9c98b",
   "metadata": {
    "scrolled": true
   },
   "outputs": [],
   "source": [
    "# change lables \n",
    "# df = df.rename(columns={'oldName1': 'newName1', 'oldName2': 'newName2'})\n",
    "clean_ca_crime_df.rename(columns={'Murder and\\nnonnegligent\\nmanslaughter':'Murder', \n",
    "                           'Violent\\ncrime':'ViolentCrime',\n",
    "                          'Aggravated\\nassault':'AggAssault',\n",
    "                          'Property\\ncrime':'PropertyCrime',\n",
    "                          'Larceny-\\ntheft':'Theft',\n",
    "                          'Motor\\nvehicle\\ntheft':'VehicleTheft',\n",
    "                          'Rape1':'Rape'}, inplace=True)\n",
    "clean_ca_crime_df.head()"
   ]
  },
  {
   "cell_type": "code",
   "execution_count": null,
   "id": "05785dea",
   "metadata": {},
   "outputs": [],
   "source": [
    "# verify unique values\n",
    "clean_ca_crime_df.nunique()"
   ]
  },
  {
   "cell_type": "markdown",
   "id": "1e73a72a",
   "metadata": {},
   "source": [
    "# clean fire data"
   ]
  },
  {
   "cell_type": "code",
   "execution_count": 2,
   "id": "42f50153",
   "metadata": {
    "scrolled": true
   },
   "outputs": [
    {
     "data": {
      "text/html": [
       "<div>\n",
       "<style scoped>\n",
       "    .dataframe tbody tr th:only-of-type {\n",
       "        vertical-align: middle;\n",
       "    }\n",
       "\n",
       "    .dataframe tbody tr th {\n",
       "        vertical-align: top;\n",
       "    }\n",
       "\n",
       "    .dataframe thead th {\n",
       "        text-align: right;\n",
       "    }\n",
       "</style>\n",
       "<table border=\"1\" class=\"dataframe\">\n",
       "  <thead>\n",
       "    <tr style=\"text-align: right;\">\n",
       "      <th></th>\n",
       "      <th>latitude</th>\n",
       "      <th>longitude</th>\n",
       "      <th>acq_date</th>\n",
       "      <th>satellite</th>\n",
       "      <th>instrument</th>\n",
       "      <th>confidence</th>\n",
       "      <th>year</th>\n",
       "      <th>month</th>\n",
       "    </tr>\n",
       "  </thead>\n",
       "  <tbody>\n",
       "    <tr>\n",
       "      <th>0</th>\n",
       "      <td>32.436893</td>\n",
       "      <td>-114.597054</td>\n",
       "      <td>2014-06-15</td>\n",
       "      <td>N</td>\n",
       "      <td>VIIRS</td>\n",
       "      <td>100</td>\n",
       "      <td>2014</td>\n",
       "      <td>6</td>\n",
       "    </tr>\n",
       "    <tr>\n",
       "      <th>1</th>\n",
       "      <td>32.456921</td>\n",
       "      <td>-114.598595</td>\n",
       "      <td>2014-06-15</td>\n",
       "      <td>N</td>\n",
       "      <td>VIIRS</td>\n",
       "      <td>100</td>\n",
       "      <td>2014</td>\n",
       "      <td>6</td>\n",
       "    </tr>\n",
       "    <tr>\n",
       "      <th>2</th>\n",
       "      <td>32.457344</td>\n",
       "      <td>-114.596558</td>\n",
       "      <td>2014-06-15</td>\n",
       "      <td>N</td>\n",
       "      <td>VIIRS</td>\n",
       "      <td>100</td>\n",
       "      <td>2014</td>\n",
       "      <td>6</td>\n",
       "    </tr>\n",
       "    <tr>\n",
       "      <th>3</th>\n",
       "      <td>32.458092</td>\n",
       "      <td>-114.592819</td>\n",
       "      <td>2014-06-15</td>\n",
       "      <td>N</td>\n",
       "      <td>VIIRS</td>\n",
       "      <td>100</td>\n",
       "      <td>2014</td>\n",
       "      <td>6</td>\n",
       "    </tr>\n",
       "    <tr>\n",
       "      <th>4</th>\n",
       "      <td>32.461948</td>\n",
       "      <td>-114.593880</td>\n",
       "      <td>2014-06-15</td>\n",
       "      <td>N</td>\n",
       "      <td>VIIRS</td>\n",
       "      <td>100</td>\n",
       "      <td>2014</td>\n",
       "      <td>6</td>\n",
       "    </tr>\n",
       "  </tbody>\n",
       "</table>\n",
       "</div>"
      ],
      "text/plain": [
       "    latitude   longitude    acq_date satellite instrument  confidence  year  \\\n",
       "0  32.436893 -114.597054  2014-06-15         N      VIIRS         100  2014   \n",
       "1  32.456921 -114.598595  2014-06-15         N      VIIRS         100  2014   \n",
       "2  32.457344 -114.596558  2014-06-15         N      VIIRS         100  2014   \n",
       "3  32.458092 -114.592819  2014-06-15         N      VIIRS         100  2014   \n",
       "4  32.461948 -114.593880  2014-06-15         N      VIIRS         100  2014   \n",
       "\n",
       "   month  \n",
       "0      6  \n",
       "1      6  \n",
       "2      6  \n",
       "3      6  \n",
       "4      6  "
      ]
     },
     "execution_count": 2,
     "metadata": {},
     "output_type": "execute_result"
    }
   ],
   "source": [
    "# read in fire data file\n",
    "ca_fire_df = pd.read_csv(\"../Resources/ca_daily_fire_2000_2021.csv\")\n",
    "ca_fire_df.head()\n"
   ]
  },
  {
   "cell_type": "code",
   "execution_count": 3,
   "id": "0a4aa4af",
   "metadata": {
    "scrolled": true
   },
   "outputs": [
    {
     "data": {
      "text/plain": [
       "latitude      float64\n",
       "longitude     float64\n",
       "acq_date       object\n",
       "satellite      object\n",
       "instrument     object\n",
       "confidence      int64\n",
       "year            int64\n",
       "month           int64\n",
       "dtype: object"
      ]
     },
     "execution_count": 3,
     "metadata": {},
     "output_type": "execute_result"
    }
   ],
   "source": [
    "# list column names with data types\n",
    "ca_fire_df.dtypes"
   ]
  },
  {
   "cell_type": "code",
   "execution_count": 4,
   "id": "e7180572",
   "metadata": {
    "scrolled": true
   },
   "outputs": [
    {
     "data": {
      "text/html": [
       "<div>\n",
       "<style scoped>\n",
       "    .dataframe tbody tr th:only-of-type {\n",
       "        vertical-align: middle;\n",
       "    }\n",
       "\n",
       "    .dataframe tbody tr th {\n",
       "        vertical-align: top;\n",
       "    }\n",
       "\n",
       "    .dataframe thead th {\n",
       "        text-align: right;\n",
       "    }\n",
       "</style>\n",
       "<table border=\"1\" class=\"dataframe\">\n",
       "  <thead>\n",
       "    <tr style=\"text-align: right;\">\n",
       "      <th></th>\n",
       "      <th>latitude</th>\n",
       "      <th>longitude</th>\n",
       "      <th>acq_date</th>\n",
       "      <th>satellite</th>\n",
       "      <th>instrument</th>\n",
       "      <th>confidence</th>\n",
       "      <th>year</th>\n",
       "      <th>month</th>\n",
       "    </tr>\n",
       "  </thead>\n",
       "  <tbody>\n",
       "    <tr>\n",
       "      <th>0</th>\n",
       "      <td>32.436893</td>\n",
       "      <td>-114.597054</td>\n",
       "      <td>2014-06-15</td>\n",
       "      <td>N</td>\n",
       "      <td>VIIRS</td>\n",
       "      <td>100</td>\n",
       "      <td>2014</td>\n",
       "      <td>6</td>\n",
       "    </tr>\n",
       "    <tr>\n",
       "      <th>1</th>\n",
       "      <td>32.456921</td>\n",
       "      <td>-114.598595</td>\n",
       "      <td>2014-06-15</td>\n",
       "      <td>N</td>\n",
       "      <td>VIIRS</td>\n",
       "      <td>100</td>\n",
       "      <td>2014</td>\n",
       "      <td>6</td>\n",
       "    </tr>\n",
       "    <tr>\n",
       "      <th>2</th>\n",
       "      <td>32.457344</td>\n",
       "      <td>-114.596558</td>\n",
       "      <td>2014-06-15</td>\n",
       "      <td>N</td>\n",
       "      <td>VIIRS</td>\n",
       "      <td>100</td>\n",
       "      <td>2014</td>\n",
       "      <td>6</td>\n",
       "    </tr>\n",
       "    <tr>\n",
       "      <th>3</th>\n",
       "      <td>32.458092</td>\n",
       "      <td>-114.592819</td>\n",
       "      <td>2014-06-15</td>\n",
       "      <td>N</td>\n",
       "      <td>VIIRS</td>\n",
       "      <td>100</td>\n",
       "      <td>2014</td>\n",
       "      <td>6</td>\n",
       "    </tr>\n",
       "    <tr>\n",
       "      <th>4</th>\n",
       "      <td>32.461948</td>\n",
       "      <td>-114.593880</td>\n",
       "      <td>2014-06-15</td>\n",
       "      <td>N</td>\n",
       "      <td>VIIRS</td>\n",
       "      <td>100</td>\n",
       "      <td>2014</td>\n",
       "      <td>6</td>\n",
       "    </tr>\n",
       "    <tr>\n",
       "      <th>...</th>\n",
       "      <td>...</td>\n",
       "      <td>...</td>\n",
       "      <td>...</td>\n",
       "      <td>...</td>\n",
       "      <td>...</td>\n",
       "      <td>...</td>\n",
       "      <td>...</td>\n",
       "      <td>...</td>\n",
       "    </tr>\n",
       "    <tr>\n",
       "      <th>1102644</th>\n",
       "      <td>41.999947</td>\n",
       "      <td>-120.655807</td>\n",
       "      <td>2012-08-14</td>\n",
       "      <td>N</td>\n",
       "      <td>VIIRS</td>\n",
       "      <td>50</td>\n",
       "      <td>2012</td>\n",
       "      <td>8</td>\n",
       "    </tr>\n",
       "    <tr>\n",
       "      <th>1102645</th>\n",
       "      <td>41.999950</td>\n",
       "      <td>-123.621155</td>\n",
       "      <td>2020-09-20</td>\n",
       "      <td>N</td>\n",
       "      <td>VIIRS</td>\n",
       "      <td>50</td>\n",
       "      <td>2020</td>\n",
       "      <td>9</td>\n",
       "    </tr>\n",
       "    <tr>\n",
       "      <th>1102646</th>\n",
       "      <td>41.999958</td>\n",
       "      <td>-122.592186</td>\n",
       "      <td>2018-07-08</td>\n",
       "      <td>N</td>\n",
       "      <td>VIIRS</td>\n",
       "      <td>50</td>\n",
       "      <td>2018</td>\n",
       "      <td>7</td>\n",
       "    </tr>\n",
       "    <tr>\n",
       "      <th>1102647</th>\n",
       "      <td>41.999969</td>\n",
       "      <td>-120.648338</td>\n",
       "      <td>2012-08-14</td>\n",
       "      <td>N</td>\n",
       "      <td>VIIRS</td>\n",
       "      <td>50</td>\n",
       "      <td>2012</td>\n",
       "      <td>8</td>\n",
       "    </tr>\n",
       "    <tr>\n",
       "      <th>1102648</th>\n",
       "      <td>41.999973</td>\n",
       "      <td>-123.645943</td>\n",
       "      <td>2020-09-11</td>\n",
       "      <td>N</td>\n",
       "      <td>VIIRS</td>\n",
       "      <td>50</td>\n",
       "      <td>2020</td>\n",
       "      <td>9</td>\n",
       "    </tr>\n",
       "  </tbody>\n",
       "</table>\n",
       "<p>1102649 rows × 8 columns</p>\n",
       "</div>"
      ],
      "text/plain": [
       "          latitude   longitude    acq_date satellite instrument  confidence  \\\n",
       "0        32.436893 -114.597054  2014-06-15         N      VIIRS         100   \n",
       "1        32.456921 -114.598595  2014-06-15         N      VIIRS         100   \n",
       "2        32.457344 -114.596558  2014-06-15         N      VIIRS         100   \n",
       "3        32.458092 -114.592819  2014-06-15         N      VIIRS         100   \n",
       "4        32.461948 -114.593880  2014-06-15         N      VIIRS         100   \n",
       "...            ...         ...         ...       ...        ...         ...   \n",
       "1102644  41.999947 -120.655807  2012-08-14         N      VIIRS          50   \n",
       "1102645  41.999950 -123.621155  2020-09-20         N      VIIRS          50   \n",
       "1102646  41.999958 -122.592186  2018-07-08         N      VIIRS          50   \n",
       "1102647  41.999969 -120.648338  2012-08-14         N      VIIRS          50   \n",
       "1102648  41.999973 -123.645943  2020-09-11         N      VIIRS          50   \n",
       "\n",
       "         year  month  \n",
       "0        2014      6  \n",
       "1        2014      6  \n",
       "2        2014      6  \n",
       "3        2014      6  \n",
       "4        2014      6  \n",
       "...       ...    ...  \n",
       "1102644  2012      8  \n",
       "1102645  2020      9  \n",
       "1102646  2018      7  \n",
       "1102647  2012      8  \n",
       "1102648  2020      9  \n",
       "\n",
       "[1102649 rows x 8 columns]"
      ]
     },
     "execution_count": 4,
     "metadata": {},
     "output_type": "execute_result"
    }
   ],
   "source": [
    "# drop any null values\n",
    "ca_fire_df.dropna()"
   ]
  },
  {
   "cell_type": "code",
   "execution_count": 5,
   "id": "fe8fc7d8",
   "metadata": {},
   "outputs": [
    {
     "data": {
      "text/html": [
       "<div>\n",
       "<style scoped>\n",
       "    .dataframe tbody tr th:only-of-type {\n",
       "        vertical-align: middle;\n",
       "    }\n",
       "\n",
       "    .dataframe tbody tr th {\n",
       "        vertical-align: top;\n",
       "    }\n",
       "\n",
       "    .dataframe thead th {\n",
       "        text-align: right;\n",
       "    }\n",
       "</style>\n",
       "<table border=\"1\" class=\"dataframe\">\n",
       "  <thead>\n",
       "    <tr style=\"text-align: right;\">\n",
       "      <th></th>\n",
       "      <th>lat</th>\n",
       "      <th>lon</th>\n",
       "      <th>acq_date</th>\n",
       "      <th>satellite</th>\n",
       "      <th>instrument</th>\n",
       "      <th>confidence</th>\n",
       "      <th>year</th>\n",
       "      <th>month</th>\n",
       "    </tr>\n",
       "  </thead>\n",
       "  <tbody>\n",
       "    <tr>\n",
       "      <th>0</th>\n",
       "      <td>32.436893</td>\n",
       "      <td>-114.597054</td>\n",
       "      <td>2014-06-15</td>\n",
       "      <td>N</td>\n",
       "      <td>VIIRS</td>\n",
       "      <td>100</td>\n",
       "      <td>2014</td>\n",
       "      <td>6</td>\n",
       "    </tr>\n",
       "    <tr>\n",
       "      <th>1</th>\n",
       "      <td>32.456921</td>\n",
       "      <td>-114.598595</td>\n",
       "      <td>2014-06-15</td>\n",
       "      <td>N</td>\n",
       "      <td>VIIRS</td>\n",
       "      <td>100</td>\n",
       "      <td>2014</td>\n",
       "      <td>6</td>\n",
       "    </tr>\n",
       "    <tr>\n",
       "      <th>2</th>\n",
       "      <td>32.457344</td>\n",
       "      <td>-114.596558</td>\n",
       "      <td>2014-06-15</td>\n",
       "      <td>N</td>\n",
       "      <td>VIIRS</td>\n",
       "      <td>100</td>\n",
       "      <td>2014</td>\n",
       "      <td>6</td>\n",
       "    </tr>\n",
       "    <tr>\n",
       "      <th>3</th>\n",
       "      <td>32.458092</td>\n",
       "      <td>-114.592819</td>\n",
       "      <td>2014-06-15</td>\n",
       "      <td>N</td>\n",
       "      <td>VIIRS</td>\n",
       "      <td>100</td>\n",
       "      <td>2014</td>\n",
       "      <td>6</td>\n",
       "    </tr>\n",
       "    <tr>\n",
       "      <th>4</th>\n",
       "      <td>32.461948</td>\n",
       "      <td>-114.593880</td>\n",
       "      <td>2014-06-15</td>\n",
       "      <td>N</td>\n",
       "      <td>VIIRS</td>\n",
       "      <td>100</td>\n",
       "      <td>2014</td>\n",
       "      <td>6</td>\n",
       "    </tr>\n",
       "  </tbody>\n",
       "</table>\n",
       "</div>"
      ],
      "text/plain": [
       "         lat         lon    acq_date satellite instrument  confidence  year  \\\n",
       "0  32.436893 -114.597054  2014-06-15         N      VIIRS         100  2014   \n",
       "1  32.456921 -114.598595  2014-06-15         N      VIIRS         100  2014   \n",
       "2  32.457344 -114.596558  2014-06-15         N      VIIRS         100  2014   \n",
       "3  32.458092 -114.592819  2014-06-15         N      VIIRS         100  2014   \n",
       "4  32.461948 -114.593880  2014-06-15         N      VIIRS         100  2014   \n",
       "\n",
       "   month  \n",
       "0      6  \n",
       "1      6  \n",
       "2      6  \n",
       "3      6  \n",
       "4      6  "
      ]
     },
     "execution_count": 5,
     "metadata": {},
     "output_type": "execute_result"
    }
   ],
   "source": [
    "# change lables \n",
    "# df = df.rename(columns={'oldName1': 'newName1', 'oldName2': 'newName2'})\n",
    "ca_fire_df.rename(columns={'longitude':'lon',\n",
    "                          'latitude':'lat'}, inplace=True)\n",
    "ca_fire_df.head()"
   ]
  },
  {
   "cell_type": "code",
   "execution_count": 6,
   "id": "af1db707",
   "metadata": {},
   "outputs": [
    {
     "data": {
      "text/plain": [
       "lat           721017\n",
       "lon           456440\n",
       "acq_date        7091\n",
       "satellite          3\n",
       "instrument         2\n",
       "confidence        51\n",
       "year              22\n",
       "month             12\n",
       "dtype: int64"
      ]
     },
     "execution_count": 6,
     "metadata": {},
     "output_type": "execute_result"
    }
   ],
   "source": [
    "# count unique values in each column\n",
    "ca_fire_df.nunique()"
   ]
  },
  {
   "cell_type": "code",
   "execution_count": 7,
   "id": "b90762d4",
   "metadata": {
    "scrolled": true
   },
   "outputs": [
    {
     "data": {
      "text/plain": [
       "array([2014, 2011, 2013, 2012, 2010, 2009, 2004, 2002, 2018, 2007, 2005,\n",
       "       2021, 2015, 2008, 2020, 2019, 2016, 2017, 2006, 2003, 2001, 2000],\n",
       "      dtype=int64)"
      ]
     },
     "execution_count": 7,
     "metadata": {},
     "output_type": "execute_result"
    }
   ],
   "source": [
    "# show unique values in year column\n",
    "ca_fire_df.year.unique()"
   ]
  },
  {
   "cell_type": "code",
   "execution_count": 8,
   "id": "b5181d83",
   "metadata": {
    "scrolled": true
   },
   "outputs": [
    {
     "data": {
      "text/plain": [
       "2020    277057\n",
       "2021    197622\n",
       "2018    119245\n",
       "2017    101823\n",
       "2015     66202\n",
       "2012     59850\n",
       "2013     58557\n",
       "2014     51416\n",
       "2016     47998\n",
       "2019     31585\n",
       "2008     18273\n",
       "2007     13329\n",
       "2006     12695\n",
       "2003      9768\n",
       "2009      7301\n",
       "2005      7142\n",
       "2002      6368\n",
       "2004      5804\n",
       "2011      4065\n",
       "2001      3716\n",
       "2010      2484\n",
       "2000       349\n",
       "Name: year, dtype: int64"
      ]
     },
     "execution_count": 8,
     "metadata": {},
     "output_type": "execute_result"
    }
   ],
   "source": [
    "# show how many rows for each year / find and count unique values in a column\n",
    "ca_fire_df.year.value_counts()"
   ]
  },
  {
   "cell_type": "code",
   "execution_count": 9,
   "id": "a4f09d98",
   "metadata": {},
   "outputs": [
    {
     "data": {
      "text/html": [
       "<div>\n",
       "<style scoped>\n",
       "    .dataframe tbody tr th:only-of-type {\n",
       "        vertical-align: middle;\n",
       "    }\n",
       "\n",
       "    .dataframe tbody tr th {\n",
       "        vertical-align: top;\n",
       "    }\n",
       "\n",
       "    .dataframe thead th {\n",
       "        text-align: right;\n",
       "    }\n",
       "</style>\n",
       "<table border=\"1\" class=\"dataframe\">\n",
       "  <thead>\n",
       "    <tr style=\"text-align: right;\">\n",
       "      <th></th>\n",
       "      <th>lat</th>\n",
       "      <th>lon</th>\n",
       "      <th>acq_date</th>\n",
       "      <th>satellite</th>\n",
       "      <th>instrument</th>\n",
       "      <th>confidence</th>\n",
       "      <th>year</th>\n",
       "      <th>month</th>\n",
       "    </tr>\n",
       "  </thead>\n",
       "  <tbody>\n",
       "    <tr>\n",
       "      <th>58</th>\n",
       "      <td>32.538414</td>\n",
       "      <td>-114.621254</td>\n",
       "      <td>2019-01-03</td>\n",
       "      <td>N</td>\n",
       "      <td>VIIRS</td>\n",
       "      <td>50</td>\n",
       "      <td>2019</td>\n",
       "      <td>1</td>\n",
       "    </tr>\n",
       "    <tr>\n",
       "      <th>65</th>\n",
       "      <td>32.539585</td>\n",
       "      <td>-114.619484</td>\n",
       "      <td>2019-08-12</td>\n",
       "      <td>N</td>\n",
       "      <td>VIIRS</td>\n",
       "      <td>50</td>\n",
       "      <td>2019</td>\n",
       "      <td>8</td>\n",
       "    </tr>\n",
       "    <tr>\n",
       "      <th>74</th>\n",
       "      <td>32.541367</td>\n",
       "      <td>-114.618057</td>\n",
       "      <td>2019-06-12</td>\n",
       "      <td>N</td>\n",
       "      <td>VIIRS</td>\n",
       "      <td>50</td>\n",
       "      <td>2019</td>\n",
       "      <td>6</td>\n",
       "    </tr>\n",
       "    <tr>\n",
       "      <th>76</th>\n",
       "      <td>32.541977</td>\n",
       "      <td>-114.622284</td>\n",
       "      <td>2019-06-12</td>\n",
       "      <td>N</td>\n",
       "      <td>VIIRS</td>\n",
       "      <td>50</td>\n",
       "      <td>2019</td>\n",
       "      <td>6</td>\n",
       "    </tr>\n",
       "    <tr>\n",
       "      <th>78</th>\n",
       "      <td>32.543243</td>\n",
       "      <td>-114.613960</td>\n",
       "      <td>2019-08-12</td>\n",
       "      <td>N</td>\n",
       "      <td>VIIRS</td>\n",
       "      <td>50</td>\n",
       "      <td>2019</td>\n",
       "      <td>8</td>\n",
       "    </tr>\n",
       "  </tbody>\n",
       "</table>\n",
       "</div>"
      ],
      "text/plain": [
       "          lat         lon    acq_date satellite instrument  confidence  year  \\\n",
       "58  32.538414 -114.621254  2019-01-03         N      VIIRS          50  2019   \n",
       "65  32.539585 -114.619484  2019-08-12         N      VIIRS          50  2019   \n",
       "74  32.541367 -114.618057  2019-06-12         N      VIIRS          50  2019   \n",
       "76  32.541977 -114.622284  2019-06-12         N      VIIRS          50  2019   \n",
       "78  32.543243 -114.613960  2019-08-12         N      VIIRS          50  2019   \n",
       "\n",
       "    month  \n",
       "58      1  \n",
       "65      8  \n",
       "74      6  \n",
       "76      6  \n",
       "78      8  "
      ]
     },
     "execution_count": 9,
     "metadata": {},
     "output_type": "execute_result"
    }
   ],
   "source": [
    "# drop all ROWS not 2019 (retain all 2019 rows)\n",
    "clean_ca_fire_df = ca_fire_df[ca_fire_df['year']==2019]\n",
    "clean_ca_fire_df.head()"
   ]
  },
  {
   "cell_type": "markdown",
   "id": "8d34c50b",
   "metadata": {},
   "source": [
    "# clean housing  data (ZILLOW)"
   ]
  },
  {
   "cell_type": "code",
   "execution_count": null,
   "id": "9b8ddb47",
   "metadata": {},
   "outputs": [],
   "source": [
    "ca_zip_df = pd.read_csv(\"resources/Zip_zhvi_uc_sfrcondo_tier_0.33_0.67_sm_sa_month.csv\")\n",
    "ca_zip_df.head()"
   ]
  },
  {
   "cell_type": "code",
   "execution_count": null,
   "id": "a11cedfb",
   "metadata": {
    "scrolled": true
   },
   "outputs": [],
   "source": [
    "# list column names with data types\n",
    "list(ca_zip_df.columns)"
   ]
  },
  {
   "cell_type": "code",
   "execution_count": null,
   "id": "f52c9802",
   "metadata": {},
   "outputs": [],
   "source": [
    "# remove excess date columns 2000-2018\n",
    "ca_zip_df.drop(['RegionID',\n",
    " 'SizeRank',\n",
    " 'RegionType',\n",
    " 'StateName',\n",
    " '2000-01-31',\n",
    " '2000-02-29',\n",
    " '2000-03-31',\n",
    " '2000-04-30',\n",
    " '2000-05-31',\n",
    " '2000-06-30',\n",
    " '2000-07-31',\n",
    " '2000-08-31',\n",
    " '2000-09-30',\n",
    " '2000-10-31',\n",
    " '2000-11-30',\n",
    " '2000-12-31',\n",
    " '2001-01-31',\n",
    " '2001-02-28',\n",
    " '2001-03-31',\n",
    " '2001-04-30',\n",
    " '2001-05-31',\n",
    " '2001-06-30',\n",
    " '2001-07-31',\n",
    " '2001-08-31',\n",
    " '2001-09-30',\n",
    " '2001-10-31',\n",
    " '2001-11-30',\n",
    " '2001-12-31',\n",
    " '2002-01-31',\n",
    " '2002-02-28',\n",
    " '2002-03-31',\n",
    " '2002-04-30',\n",
    " '2002-05-31',\n",
    " '2002-06-30',\n",
    " '2002-07-31',\n",
    " '2002-08-31',\n",
    " '2002-09-30',\n",
    " '2002-10-31',\n",
    " '2002-11-30',\n",
    " '2002-12-31',\n",
    " '2003-01-31',\n",
    " '2003-02-28',\n",
    " '2003-03-31',\n",
    " '2003-04-30',\n",
    " '2003-05-31',\n",
    " '2003-06-30',\n",
    " '2003-07-31',\n",
    " '2003-08-31',\n",
    " '2003-09-30',\n",
    " '2003-10-31',\n",
    " '2003-11-30',\n",
    " '2003-12-31',\n",
    " '2004-01-31',\n",
    " '2004-02-29',\n",
    " '2004-03-31',\n",
    " '2004-04-30',\n",
    " '2004-05-31',\n",
    " '2004-06-30',\n",
    " '2004-07-31',\n",
    " '2004-08-31',\n",
    " '2004-09-30',\n",
    " '2004-10-31',\n",
    " '2004-11-30',\n",
    " '2004-12-31',\n",
    " '2005-01-31',\n",
    " '2005-02-28',\n",
    " '2005-03-31',\n",
    " '2005-04-30',\n",
    " '2005-05-31',\n",
    " '2005-06-30',\n",
    " '2005-07-31',\n",
    " '2005-08-31',\n",
    " '2005-09-30',\n",
    " '2005-10-31',\n",
    " '2005-11-30',\n",
    " '2005-12-31',\n",
    " '2006-01-31',\n",
    " '2006-02-28',\n",
    " '2006-03-31',\n",
    " '2006-04-30',\n",
    " '2006-05-31',\n",
    " '2006-06-30',\n",
    " '2006-07-31',\n",
    " '2006-08-31',\n",
    " '2006-09-30',\n",
    " '2006-10-31',\n",
    " '2006-11-30',\n",
    " '2006-12-31',\n",
    " '2007-01-31',\n",
    " '2007-02-28',\n",
    " '2007-03-31',\n",
    " '2007-04-30',\n",
    " '2007-05-31',\n",
    " '2007-06-30',\n",
    " '2007-07-31',\n",
    " '2007-08-31',\n",
    " '2007-09-30',\n",
    " '2007-10-31',\n",
    " '2007-11-30',\n",
    " '2007-12-31',\n",
    " '2008-01-31',\n",
    " '2008-02-29',\n",
    " '2008-03-31',\n",
    " '2008-04-30',\n",
    " '2008-05-31',\n",
    " '2008-06-30',\n",
    " '2008-07-31',\n",
    " '2008-08-31',\n",
    " '2008-09-30',\n",
    " '2008-10-31',\n",
    " '2008-11-30',\n",
    " '2008-12-31',\n",
    " '2009-01-31',\n",
    " '2009-02-28',\n",
    " '2009-03-31',\n",
    " '2009-04-30',\n",
    " '2009-05-31',\n",
    " '2009-06-30',\n",
    " '2009-07-31',\n",
    " '2009-08-31',\n",
    " '2009-09-30',\n",
    " '2009-10-31',\n",
    " '2009-11-30',\n",
    " '2009-12-31',\n",
    " '2010-01-31',\n",
    " '2010-02-28',\n",
    " '2010-03-31',\n",
    " '2010-04-30',\n",
    " '2010-05-31',\n",
    " '2010-06-30',\n",
    " '2010-07-31',\n",
    " '2010-08-31',\n",
    " '2010-09-30',\n",
    " '2010-10-31',\n",
    " '2010-11-30',\n",
    " '2010-12-31',\n",
    " '2011-01-31',\n",
    " '2011-02-28',\n",
    " '2011-03-31',\n",
    " '2011-04-30',\n",
    " '2011-05-31',\n",
    " '2011-06-30',\n",
    " '2011-07-31',\n",
    " '2011-08-31',\n",
    " '2011-09-30',\n",
    " '2011-10-31',\n",
    " '2011-11-30',\n",
    " '2011-12-31',\n",
    " '2012-01-31',\n",
    " '2012-02-29',\n",
    " '2012-03-31',\n",
    " '2012-04-30',\n",
    " '2012-05-31',\n",
    " '2012-06-30',\n",
    " '2012-07-31',\n",
    " '2012-08-31',\n",
    " '2012-09-30',\n",
    " '2012-10-31',\n",
    " '2012-11-30',\n",
    " '2012-12-31',\n",
    " '2013-01-31',\n",
    " '2013-02-28',\n",
    " '2013-03-31',\n",
    " '2013-04-30',\n",
    " '2013-05-31',\n",
    " '2013-06-30',\n",
    " '2013-07-31',\n",
    " '2013-08-31',\n",
    " '2013-09-30',\n",
    " '2013-10-31',\n",
    " '2013-11-30',\n",
    " '2013-12-31',\n",
    " '2014-01-31',\n",
    " '2014-02-28',\n",
    " '2014-03-31',\n",
    " '2014-04-30',\n",
    " '2014-05-31',\n",
    " '2014-06-30',\n",
    " '2014-07-31',\n",
    " '2014-08-31',\n",
    " '2014-09-30',\n",
    " '2014-10-31',\n",
    " '2014-11-30',\n",
    " '2014-12-31',\n",
    " '2015-01-31',\n",
    " '2015-02-28',\n",
    " '2015-03-31',\n",
    " '2015-04-30',\n",
    " '2015-05-31',\n",
    " '2015-06-30',\n",
    " '2015-07-31',\n",
    " '2015-08-31',\n",
    " '2015-09-30',\n",
    " '2015-10-31',\n",
    " '2015-11-30',\n",
    " '2015-12-31',\n",
    " '2016-01-31',\n",
    " '2016-02-29',\n",
    " '2016-03-31',\n",
    " '2016-04-30',\n",
    " '2016-05-31',\n",
    " '2016-06-30',\n",
    " '2016-07-31',\n",
    " '2016-08-31',\n",
    " '2016-09-30',\n",
    " '2016-10-31',\n",
    " '2016-11-30',\n",
    " '2016-12-31',\n",
    " '2017-01-31',\n",
    " '2017-02-28',\n",
    " '2017-03-31',\n",
    " '2017-04-30',\n",
    " '2017-05-31',\n",
    " '2017-06-30',\n",
    " '2017-07-31',\n",
    " '2017-08-31',\n",
    " '2017-09-30',\n",
    " '2017-10-31',\n",
    " '2017-11-30',\n",
    " '2017-12-31',\n",
    " '2018-01-31',\n",
    " '2018-02-28',\n",
    " '2018-03-31',\n",
    " '2018-04-30',\n",
    " '2018-05-31',\n",
    " '2018-06-30',\n",
    " '2018-07-31',\n",
    " '2018-08-31',\n",
    " '2018-09-30',\n",
    " '2018-10-31',\n",
    " '2018-11-30',\n",
    " '2018-12-31',\n",
    "'2020-01-31',\n",
    " '2020-02-29',\n",
    " '2020-03-31',\n",
    " '2020-04-30',\n",
    " '2020-05-31',\n",
    " '2020-06-30',\n",
    " '2020-07-31',\n",
    " '2020-08-31',\n",
    " '2020-09-30',\n",
    " '2020-10-31',\n",
    " '2020-11-30',\n",
    " '2020-12-31',\n",
    " '2021-01-31',\n",
    " '2021-02-28',\n",
    " '2021-03-31',\n",
    " '2021-04-30',\n",
    " '2021-05-31',\n",
    " '2021-06-30',\n",
    " '2021-07-31',\n",
    " '2021-08-31',\n",
    " '2021-09-30',\n",
    " '2021-10-31',\n",
    " '2021-11-30',\n",
    " '2021-12-31',\n",
    " '2022-01-31',\n",
    " '2022-02-28',\n",
    " '2022-03-31',\n",
    " '2022-04-30',\n",
    " '2022-05-31',\n",
    " '2022-06-30',\n",
    " '2022-07-31',\n",
    " '2022-08-31',\n",
    " '2022-09-30'],axis=1, inplace=True)\n",
    "ca_zip_df.head()"
   ]
  },
  {
   "cell_type": "code",
   "execution_count": null,
   "id": "fa37e365",
   "metadata": {
    "scrolled": true
   },
   "outputs": [],
   "source": [
    "# drop all ROWS not CA (retain all CA rows)\n",
    "ca_zip_df_filter = ca_zip_df[ca_zip_df['State']=='CA']\n",
    "ca_zip_df_filter.head()"
   ]
  },
  {
   "cell_type": "code",
   "execution_count": null,
   "id": "859735a7",
   "metadata": {
    "scrolled": true
   },
   "outputs": [],
   "source": [
    "# list column names with data types\n",
    "ca_zip_df_filter.dtypes"
   ]
  },
  {
   "cell_type": "code",
   "execution_count": null,
   "id": "b2d1a694",
   "metadata": {
    "scrolled": true
   },
   "outputs": [],
   "source": [
    "# drop any null values\n",
    "ca_zip_df_filter.dropna()"
   ]
  },
  {
   "cell_type": "code",
   "execution_count": null,
   "id": "60ea7d2a",
   "metadata": {
    "scrolled": true
   },
   "outputs": [],
   "source": [
    "# change column lables \n",
    "# df = df.rename(columns={'oldName1': 'newName1', 'oldName2': 'newName2'})\n",
    "ca_zip_df_filter.rename(columns={'RegionName':'ZIPCODE'}, inplace=True)\n",
    "ca_zip_df_filter.head()"
   ]
  },
  {
   "cell_type": "code",
   "execution_count": null,
   "id": "cc6a5fbd",
   "metadata": {
    "scrolled": true
   },
   "outputs": [],
   "source": [
    "# count unique values in each column\n",
    "ca_zip_df_filter.nunique()"
   ]
  },
  {
   "cell_type": "code",
   "execution_count": null,
   "id": "0a510a21",
   "metadata": {},
   "outputs": [],
   "source": [
    "# count unique values in each column\n",
    "ca_zip_df.nunique()"
   ]
  },
  {
   "cell_type": "markdown",
   "id": "8141bba9",
   "metadata": {},
   "source": [
    "# All city data"
   ]
  },
  {
   "cell_type": "code",
   "execution_count": null,
   "id": "81dab3ea",
   "metadata": {
    "scrolled": true
   },
   "outputs": [],
   "source": [
    "#  Import and read the ca_crime.csv\n",
    "\n",
    "ca_allCity = pd.read_csv(\"resources/ca.csv\", low_memory=False)\n",
    "ca_allCity.head(20)"
   ]
  },
  {
   "cell_type": "code",
   "execution_count": null,
   "id": "328c3387",
   "metadata": {
    "scrolled": true
   },
   "outputs": [],
   "source": [
    "# remove excess date columns\n",
    "ca_allCity.drop(['DISTRICT', 'REGION', 'HASH', 'ID'],axis=1, inplace=True)\n",
    "ca_allCity.head()"
   ]
  },
  {
   "cell_type": "code",
   "execution_count": null,
   "id": "99505fa7",
   "metadata": {
    "scrolled": true
   },
   "outputs": [],
   "source": [
    "# change lables \n",
    "# df = df.rename(columns={'oldName1': 'newName1', 'oldName2': 'newName2'})\n",
    "ca_allCity.rename(columns={'LON':'lon', \n",
    "                          'LAT':'lat', \n",
    "                          'NUMBER':'number', \n",
    "                           'STREET':'street', \n",
    "                           'UNIT':'unit', \n",
    "                           'CITY':'city', \n",
    "                           'POSTCODE':'zipcode', \n",
    "                          }, inplace=True)\n",
    "ca_allCity.head()"
   ]
  },
  {
   "cell_type": "code",
   "execution_count": null,
   "id": "5bef4b36",
   "metadata": {},
   "outputs": [],
   "source": [
    "# count unique values in each column\n",
    "ca_allCity.nunique()"
   ]
  },
  {
   "cell_type": "code",
   "execution_count": null,
   "id": "3f6f09b7",
   "metadata": {
    "scrolled": true
   },
   "outputs": [],
   "source": [
    "# list column names with data types\n",
    "ca_allCity.dtypes"
   ]
  },
  {
   "cell_type": "code",
   "execution_count": null,
   "id": "245414ab",
   "metadata": {},
   "outputs": [],
   "source": [
    "# reorder columns\n",
    "ca_allCity.loc[:,['lat', 'lon', 'number', 'street', 'unit', 'city', 'zipcode' ]]"
   ]
  },
  {
   "cell_type": "code",
   "execution_count": null,
   "id": "10a7ca65",
   "metadata": {},
   "outputs": [],
   "source": []
  },
  {
   "cell_type": "code",
   "execution_count": null,
   "id": "ab098e7f",
   "metadata": {},
   "outputs": [],
   "source": []
  },
  {
   "cell_type": "markdown",
   "id": "662ede6b",
   "metadata": {},
   "source": [
    "# export clean datafiles for SQL trasfer"
   ]
  },
  {
   "cell_type": "code",
   "execution_count": null,
   "id": "5886c176",
   "metadata": {},
   "outputs": [],
   "source": [
    "# export allCitiy\n",
    "ca_allCity.to_csv('resources/clean_allCity.csv') "
   ]
  },
  {
   "cell_type": "code",
   "execution_count": null,
   "id": "5fdb7072",
   "metadata": {},
   "outputs": [],
   "source": [
    "# export housing\n",
    "ca_zip_df_filter.to_csv('resources/clean_ca_housing.csv') "
   ]
  },
  {
   "cell_type": "code",
   "execution_count": null,
   "id": "7a18adb9",
   "metadata": {},
   "outputs": [],
   "source": [
    "# export crime\n",
    "clean_ca_crime_df.to_csv('resources/clean_ca_crime.csv') "
   ]
  },
  {
   "cell_type": "code",
   "execution_count": 11,
   "id": "c9adc0fd",
   "metadata": {},
   "outputs": [],
   "source": [
    "# export fire\n",
    "clean_ca_fire_df.to_csv('../Resources/clean_fire.csv') "
   ]
  },
  {
   "cell_type": "code",
   "execution_count": null,
   "id": "e7995c5a",
   "metadata": {},
   "outputs": [],
   "source": []
  }
 ],
 "metadata": {
  "kernelspec": {
   "display_name": "mlenv",
   "language": "python",
   "name": "mlenv"
  },
  "language_info": {
   "codemirror_mode": {
    "name": "ipython",
    "version": 3
   },
   "file_extension": ".py",
   "mimetype": "text/x-python",
   "name": "python",
   "nbconvert_exporter": "python",
   "pygments_lexer": "ipython3",
   "version": "3.7.13"
  }
 },
 "nbformat": 4,
 "nbformat_minor": 5
}
